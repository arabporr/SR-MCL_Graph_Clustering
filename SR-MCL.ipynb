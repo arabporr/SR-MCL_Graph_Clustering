{
  "nbformat": 4,
  "nbformat_minor": 0,
  "metadata": {
    "colab": {
      "name": "BioInformatics_Final_Project",
      "provenance": [],
      "collapsed_sections": [],
      "authorship_tag": "ABX9TyP8PT2PUf174krXtKEUMRcP",
      "include_colab_link": true
    },
    "kernelspec": {
      "name": "python3",
      "display_name": "Python 3"
    },
    "language_info": {
      "name": "python"
    }
  },
  "cells": [
    {
      "cell_type": "markdown",
      "metadata": {
        "id": "view-in-github",
        "colab_type": "text"
      },
      "source": [
        "<a href=\"https://colab.research.google.com/github/arabporr/Projects/blob/main/BioInformatics_Final_Project.ipynb\" target=\"_parent\"><img src=\"https://colab.research.google.com/assets/colab-badge.svg\" alt=\"Open In Colab\"/></a>"
      ]
    },
    {
      "cell_type": "markdown",
      "source": [
        "#Reza Arabpour\n",
        "##610397136\n",
        "###BioInformatics Project Spring 2022"
      ],
      "metadata": {
        "id": "zqjSW1o0z2PU"
      }
    },
    {
      "cell_type": "markdown",
      "source": [
        "The project documanets are available [here !](https://drive.google.com/file/d/1h-xg0PDQtVR5YUgTb8v0pVd3tcTRwweN/view?usp=sharing)"
      ],
      "metadata": {
        "id": "A9qo--CT0B7D"
      }
    },
    {
      "cell_type": "code",
      "execution_count": null,
      "metadata": {
        "id": "M_RLZ8adzqys"
      },
      "outputs": [],
      "source": [
        "import numpy as np\n",
        "import pandas as pd\n",
        "import matplotlib.pyplot as plt\n",
        "import scipy as sp\n",
        "import sklearn.preprocessing\n",
        "import networkx as nx\n",
        "from matplotlib.pylab import show, cm, axis\n",
        "import random"
      ]
    },
    {
      "cell_type": "markdown",
      "source": [
        "#Sample Dataset Loading and Graph Creating"
      ],
      "metadata": {
        "id": "9GhcpiiBDJwy"
      }
    },
    {
      "cell_type": "markdown",
      "source": [
        "###Data Downloader"
      ],
      "metadata": {
        "id": "Hz6bwJSvDfBK"
      }
    },
    {
      "cell_type": "code",
      "source": [
        "!rm -rf 17285561/\n",
        "!wget https://sgd-prod-upload.s3.amazonaws.com/S000254563/17285561.zip\n",
        "!unzip 17285561.zip\n",
        "!pip install --upgrade xlrd"
      ],
      "metadata": {
        "id": "e2qAFbHpOx0p",
        "colab": {
          "base_uri": "https://localhost:8080/"
        },
        "outputId": "cbefeee1-3d65-4b1a-c159-1420b685f913"
      },
      "execution_count": null,
      "outputs": [
        {
          "output_type": "stream",
          "name": "stdout",
          "text": [
            "--2022-07-31 11:05:59--  https://sgd-prod-upload.s3.amazonaws.com/S000254563/17285561.zip\n",
            "Resolving sgd-prod-upload.s3.amazonaws.com (sgd-prod-upload.s3.amazonaws.com)... 52.218.220.91\n",
            "Connecting to sgd-prod-upload.s3.amazonaws.com (sgd-prod-upload.s3.amazonaws.com)|52.218.220.91|:443... connected.\n",
            "HTTP request sent, awaiting response... 200 OK\n",
            "Length: 2466103 (2.4M) [text/plain]\n",
            "Saving to: ‘17285561.zip.2’\n",
            "\n",
            "17285561.zip.2      100%[===================>]   2.35M  2.51MB/s    in 0.9s    \n",
            "\n",
            "2022-07-31 11:06:00 (2.51 MB/s) - ‘17285561.zip.2’ saved [2466103/2466103]\n",
            "\n",
            "Archive:  17285561.zip\n",
            "   creating: 17285561/\n",
            "  inflating: 17285561/pro200600448_1_s.xls  \n",
            "  inflating: 17285561/pro200600448_2_s.xls  \n",
            "  inflating: 17285561/pro200600448_3_s.xls  \n",
            "  inflating: 17285561/pro200600448_s.pdf  \n",
            "Looking in indexes: https://pypi.org/simple, https://us-python.pkg.dev/colab-wheels/public/simple/\n",
            "Requirement already satisfied: xlrd in /usr/local/lib/python3.7/dist-packages (2.0.1)\n"
          ]
        }
      ]
    },
    {
      "cell_type": "markdown",
      "source": [
        "###Data Loader"
      ],
      "metadata": {
        "id": "sBGMU6fGDjAB"
      }
    },
    {
      "cell_type": "code",
      "source": [
        "dataset = pd.read_excel(r'17285561/pro200600448_1_s.xls')\n",
        "dataset = dataset.drop(columns = [\"Data sets\", \"# supporting data sets\"])\n",
        "dataset"
      ],
      "metadata": {
        "colab": {
          "base_uri": "https://localhost:8080/",
          "height": 424
        },
        "id": "n13XEvvVDU6O",
        "outputId": "5cbd64f5-44ef-41aa-d75d-9c984964fa50"
      },
      "execution_count": null,
      "outputs": [
        {
          "output_type": "execute_result",
          "data": {
            "text/plain": [
              "           Score Protein A Protein B\n",
              "0     146.551240   YJR076C   YHR107C\n",
              "1     133.226849   YKL058W   YOR194C\n",
              "2     122.185533   YNR006W   YHL002W\n",
              "3     121.276323   YFL008W   YDL003W\n",
              "4     119.333177   YIL021W   YOL005C\n",
              "...          ...       ...       ...\n",
              "9575   17.025920   YER177W   YLR258W\n",
              "9576   17.020191   YNL252C   YCR046C\n",
              "9577   17.019080   YGL111W   YOL077C\n",
              "9578   17.010697   YHR041C   YLR071C\n",
              "9579   17.006804   YGL092W   YPL169C\n",
              "\n",
              "[9580 rows x 3 columns]"
            ],
            "text/html": [
              "\n",
              "  <div id=\"df-479263fc-d8cb-409c-9bf9-429ed5571650\">\n",
              "    <div class=\"colab-df-container\">\n",
              "      <div>\n",
              "<style scoped>\n",
              "    .dataframe tbody tr th:only-of-type {\n",
              "        vertical-align: middle;\n",
              "    }\n",
              "\n",
              "    .dataframe tbody tr th {\n",
              "        vertical-align: top;\n",
              "    }\n",
              "\n",
              "    .dataframe thead th {\n",
              "        text-align: right;\n",
              "    }\n",
              "</style>\n",
              "<table border=\"1\" class=\"dataframe\">\n",
              "  <thead>\n",
              "    <tr style=\"text-align: right;\">\n",
              "      <th></th>\n",
              "      <th>Score</th>\n",
              "      <th>Protein A</th>\n",
              "      <th>Protein B</th>\n",
              "    </tr>\n",
              "  </thead>\n",
              "  <tbody>\n",
              "    <tr>\n",
              "      <th>0</th>\n",
              "      <td>146.551240</td>\n",
              "      <td>YJR076C</td>\n",
              "      <td>YHR107C</td>\n",
              "    </tr>\n",
              "    <tr>\n",
              "      <th>1</th>\n",
              "      <td>133.226849</td>\n",
              "      <td>YKL058W</td>\n",
              "      <td>YOR194C</td>\n",
              "    </tr>\n",
              "    <tr>\n",
              "      <th>2</th>\n",
              "      <td>122.185533</td>\n",
              "      <td>YNR006W</td>\n",
              "      <td>YHL002W</td>\n",
              "    </tr>\n",
              "    <tr>\n",
              "      <th>3</th>\n",
              "      <td>121.276323</td>\n",
              "      <td>YFL008W</td>\n",
              "      <td>YDL003W</td>\n",
              "    </tr>\n",
              "    <tr>\n",
              "      <th>4</th>\n",
              "      <td>119.333177</td>\n",
              "      <td>YIL021W</td>\n",
              "      <td>YOL005C</td>\n",
              "    </tr>\n",
              "    <tr>\n",
              "      <th>...</th>\n",
              "      <td>...</td>\n",
              "      <td>...</td>\n",
              "      <td>...</td>\n",
              "    </tr>\n",
              "    <tr>\n",
              "      <th>9575</th>\n",
              "      <td>17.025920</td>\n",
              "      <td>YER177W</td>\n",
              "      <td>YLR258W</td>\n",
              "    </tr>\n",
              "    <tr>\n",
              "      <th>9576</th>\n",
              "      <td>17.020191</td>\n",
              "      <td>YNL252C</td>\n",
              "      <td>YCR046C</td>\n",
              "    </tr>\n",
              "    <tr>\n",
              "      <th>9577</th>\n",
              "      <td>17.019080</td>\n",
              "      <td>YGL111W</td>\n",
              "      <td>YOL077C</td>\n",
              "    </tr>\n",
              "    <tr>\n",
              "      <th>9578</th>\n",
              "      <td>17.010697</td>\n",
              "      <td>YHR041C</td>\n",
              "      <td>YLR071C</td>\n",
              "    </tr>\n",
              "    <tr>\n",
              "      <th>9579</th>\n",
              "      <td>17.006804</td>\n",
              "      <td>YGL092W</td>\n",
              "      <td>YPL169C</td>\n",
              "    </tr>\n",
              "  </tbody>\n",
              "</table>\n",
              "<p>9580 rows × 3 columns</p>\n",
              "</div>\n",
              "      <button class=\"colab-df-convert\" onclick=\"convertToInteractive('df-479263fc-d8cb-409c-9bf9-429ed5571650')\"\n",
              "              title=\"Convert this dataframe to an interactive table.\"\n",
              "              style=\"display:none;\">\n",
              "        \n",
              "  <svg xmlns=\"http://www.w3.org/2000/svg\" height=\"24px\"viewBox=\"0 0 24 24\"\n",
              "       width=\"24px\">\n",
              "    <path d=\"M0 0h24v24H0V0z\" fill=\"none\"/>\n",
              "    <path d=\"M18.56 5.44l.94 2.06.94-2.06 2.06-.94-2.06-.94-.94-2.06-.94 2.06-2.06.94zm-11 1L8.5 8.5l.94-2.06 2.06-.94-2.06-.94L8.5 2.5l-.94 2.06-2.06.94zm10 10l.94 2.06.94-2.06 2.06-.94-2.06-.94-.94-2.06-.94 2.06-2.06.94z\"/><path d=\"M17.41 7.96l-1.37-1.37c-.4-.4-.92-.59-1.43-.59-.52 0-1.04.2-1.43.59L10.3 9.45l-7.72 7.72c-.78.78-.78 2.05 0 2.83L4 21.41c.39.39.9.59 1.41.59.51 0 1.02-.2 1.41-.59l7.78-7.78 2.81-2.81c.8-.78.8-2.07 0-2.86zM5.41 20L4 18.59l7.72-7.72 1.47 1.35L5.41 20z\"/>\n",
              "  </svg>\n",
              "      </button>\n",
              "      \n",
              "  <style>\n",
              "    .colab-df-container {\n",
              "      display:flex;\n",
              "      flex-wrap:wrap;\n",
              "      gap: 12px;\n",
              "    }\n",
              "\n",
              "    .colab-df-convert {\n",
              "      background-color: #E8F0FE;\n",
              "      border: none;\n",
              "      border-radius: 50%;\n",
              "      cursor: pointer;\n",
              "      display: none;\n",
              "      fill: #1967D2;\n",
              "      height: 32px;\n",
              "      padding: 0 0 0 0;\n",
              "      width: 32px;\n",
              "    }\n",
              "\n",
              "    .colab-df-convert:hover {\n",
              "      background-color: #E2EBFA;\n",
              "      box-shadow: 0px 1px 2px rgba(60, 64, 67, 0.3), 0px 1px 3px 1px rgba(60, 64, 67, 0.15);\n",
              "      fill: #174EA6;\n",
              "    }\n",
              "\n",
              "    [theme=dark] .colab-df-convert {\n",
              "      background-color: #3B4455;\n",
              "      fill: #D2E3FC;\n",
              "    }\n",
              "\n",
              "    [theme=dark] .colab-df-convert:hover {\n",
              "      background-color: #434B5C;\n",
              "      box-shadow: 0px 1px 3px 1px rgba(0, 0, 0, 0.15);\n",
              "      filter: drop-shadow(0px 1px 2px rgba(0, 0, 0, 0.3));\n",
              "      fill: #FFFFFF;\n",
              "    }\n",
              "  </style>\n",
              "\n",
              "      <script>\n",
              "        const buttonEl =\n",
              "          document.querySelector('#df-479263fc-d8cb-409c-9bf9-429ed5571650 button.colab-df-convert');\n",
              "        buttonEl.style.display =\n",
              "          google.colab.kernel.accessAllowed ? 'block' : 'none';\n",
              "\n",
              "        async function convertToInteractive(key) {\n",
              "          const element = document.querySelector('#df-479263fc-d8cb-409c-9bf9-429ed5571650');\n",
              "          const dataTable =\n",
              "            await google.colab.kernel.invokeFunction('convertToInteractive',\n",
              "                                                     [key], {});\n",
              "          if (!dataTable) return;\n",
              "\n",
              "          const docLinkHtml = 'Like what you see? Visit the ' +\n",
              "            '<a target=\"_blank\" href=https://colab.research.google.com/notebooks/data_table.ipynb>data table notebook</a>'\n",
              "            + ' to learn more about interactive tables.';\n",
              "          element.innerHTML = '';\n",
              "          dataTable['output_type'] = 'display_data';\n",
              "          await google.colab.output.renderOutput(dataTable, element);\n",
              "          const docLink = document.createElement('div');\n",
              "          docLink.innerHTML = docLinkHtml;\n",
              "          element.appendChild(docLink);\n",
              "        }\n",
              "      </script>\n",
              "    </div>\n",
              "  </div>\n",
              "  "
            ]
          },
          "metadata": {},
          "execution_count": 59
        }
      ]
    },
    {
      "cell_type": "markdown",
      "source": [
        "###Node Relabeling"
      ],
      "metadata": {
        "id": "VkoxGuqWDpn1"
      }
    },
    {
      "cell_type": "code",
      "source": [
        "proteins = pd.concat([dataset[\"Protein A\"], dataset[\"Protein B\"]]).unique()\n",
        "prot_encoder = dict(zip(proteins, range(len(proteins))))\n",
        "graph_data = dataset.copy()\n",
        "graph_data['a'] = graph_data['Protein A'].apply(lambda x: prot_encoder[x])\n",
        "graph_data['b'] = graph_data['Protein B'].apply(lambda x: prot_encoder[x])\n",
        "graph_data = graph_data.drop(columns=[\"Protein A\", \"Protein B\"])\n",
        "graph_data"
      ],
      "metadata": {
        "colab": {
          "base_uri": "https://localhost:8080/",
          "height": 424
        },
        "id": "WfHKvO4GscwS",
        "outputId": "50765d89-e147-43fb-9af8-a60cf613e91f"
      },
      "execution_count": null,
      "outputs": [
        {
          "output_type": "execute_result",
          "data": {
            "text/plain": [
              "           Score     a     b\n",
              "0     146.551240     0  1028\n",
              "1     133.226849     1  2162\n",
              "2     122.185533     2  1796\n",
              "3     121.276323     3  1357\n",
              "4     119.333177     4   502\n",
              "...          ...   ...   ...\n",
              "9575   17.025920   351  2063\n",
              "9576   17.020191  1420  2646\n",
              "9577   17.019080  1655  1423\n",
              "9578   17.010697   301  1266\n",
              "9579   17.006804    72   625\n",
              "\n",
              "[9580 rows x 3 columns]"
            ],
            "text/html": [
              "\n",
              "  <div id=\"df-37501c80-7545-4a9e-a6c9-a325f9321300\">\n",
              "    <div class=\"colab-df-container\">\n",
              "      <div>\n",
              "<style scoped>\n",
              "    .dataframe tbody tr th:only-of-type {\n",
              "        vertical-align: middle;\n",
              "    }\n",
              "\n",
              "    .dataframe tbody tr th {\n",
              "        vertical-align: top;\n",
              "    }\n",
              "\n",
              "    .dataframe thead th {\n",
              "        text-align: right;\n",
              "    }\n",
              "</style>\n",
              "<table border=\"1\" class=\"dataframe\">\n",
              "  <thead>\n",
              "    <tr style=\"text-align: right;\">\n",
              "      <th></th>\n",
              "      <th>Score</th>\n",
              "      <th>a</th>\n",
              "      <th>b</th>\n",
              "    </tr>\n",
              "  </thead>\n",
              "  <tbody>\n",
              "    <tr>\n",
              "      <th>0</th>\n",
              "      <td>146.551240</td>\n",
              "      <td>0</td>\n",
              "      <td>1028</td>\n",
              "    </tr>\n",
              "    <tr>\n",
              "      <th>1</th>\n",
              "      <td>133.226849</td>\n",
              "      <td>1</td>\n",
              "      <td>2162</td>\n",
              "    </tr>\n",
              "    <tr>\n",
              "      <th>2</th>\n",
              "      <td>122.185533</td>\n",
              "      <td>2</td>\n",
              "      <td>1796</td>\n",
              "    </tr>\n",
              "    <tr>\n",
              "      <th>3</th>\n",
              "      <td>121.276323</td>\n",
              "      <td>3</td>\n",
              "      <td>1357</td>\n",
              "    </tr>\n",
              "    <tr>\n",
              "      <th>4</th>\n",
              "      <td>119.333177</td>\n",
              "      <td>4</td>\n",
              "      <td>502</td>\n",
              "    </tr>\n",
              "    <tr>\n",
              "      <th>...</th>\n",
              "      <td>...</td>\n",
              "      <td>...</td>\n",
              "      <td>...</td>\n",
              "    </tr>\n",
              "    <tr>\n",
              "      <th>9575</th>\n",
              "      <td>17.025920</td>\n",
              "      <td>351</td>\n",
              "      <td>2063</td>\n",
              "    </tr>\n",
              "    <tr>\n",
              "      <th>9576</th>\n",
              "      <td>17.020191</td>\n",
              "      <td>1420</td>\n",
              "      <td>2646</td>\n",
              "    </tr>\n",
              "    <tr>\n",
              "      <th>9577</th>\n",
              "      <td>17.019080</td>\n",
              "      <td>1655</td>\n",
              "      <td>1423</td>\n",
              "    </tr>\n",
              "    <tr>\n",
              "      <th>9578</th>\n",
              "      <td>17.010697</td>\n",
              "      <td>301</td>\n",
              "      <td>1266</td>\n",
              "    </tr>\n",
              "    <tr>\n",
              "      <th>9579</th>\n",
              "      <td>17.006804</td>\n",
              "      <td>72</td>\n",
              "      <td>625</td>\n",
              "    </tr>\n",
              "  </tbody>\n",
              "</table>\n",
              "<p>9580 rows × 3 columns</p>\n",
              "</div>\n",
              "      <button class=\"colab-df-convert\" onclick=\"convertToInteractive('df-37501c80-7545-4a9e-a6c9-a325f9321300')\"\n",
              "              title=\"Convert this dataframe to an interactive table.\"\n",
              "              style=\"display:none;\">\n",
              "        \n",
              "  <svg xmlns=\"http://www.w3.org/2000/svg\" height=\"24px\"viewBox=\"0 0 24 24\"\n",
              "       width=\"24px\">\n",
              "    <path d=\"M0 0h24v24H0V0z\" fill=\"none\"/>\n",
              "    <path d=\"M18.56 5.44l.94 2.06.94-2.06 2.06-.94-2.06-.94-.94-2.06-.94 2.06-2.06.94zm-11 1L8.5 8.5l.94-2.06 2.06-.94-2.06-.94L8.5 2.5l-.94 2.06-2.06.94zm10 10l.94 2.06.94-2.06 2.06-.94-2.06-.94-.94-2.06-.94 2.06-2.06.94z\"/><path d=\"M17.41 7.96l-1.37-1.37c-.4-.4-.92-.59-1.43-.59-.52 0-1.04.2-1.43.59L10.3 9.45l-7.72 7.72c-.78.78-.78 2.05 0 2.83L4 21.41c.39.39.9.59 1.41.59.51 0 1.02-.2 1.41-.59l7.78-7.78 2.81-2.81c.8-.78.8-2.07 0-2.86zM5.41 20L4 18.59l7.72-7.72 1.47 1.35L5.41 20z\"/>\n",
              "  </svg>\n",
              "      </button>\n",
              "      \n",
              "  <style>\n",
              "    .colab-df-container {\n",
              "      display:flex;\n",
              "      flex-wrap:wrap;\n",
              "      gap: 12px;\n",
              "    }\n",
              "\n",
              "    .colab-df-convert {\n",
              "      background-color: #E8F0FE;\n",
              "      border: none;\n",
              "      border-radius: 50%;\n",
              "      cursor: pointer;\n",
              "      display: none;\n",
              "      fill: #1967D2;\n",
              "      height: 32px;\n",
              "      padding: 0 0 0 0;\n",
              "      width: 32px;\n",
              "    }\n",
              "\n",
              "    .colab-df-convert:hover {\n",
              "      background-color: #E2EBFA;\n",
              "      box-shadow: 0px 1px 2px rgba(60, 64, 67, 0.3), 0px 1px 3px 1px rgba(60, 64, 67, 0.15);\n",
              "      fill: #174EA6;\n",
              "    }\n",
              "\n",
              "    [theme=dark] .colab-df-convert {\n",
              "      background-color: #3B4455;\n",
              "      fill: #D2E3FC;\n",
              "    }\n",
              "\n",
              "    [theme=dark] .colab-df-convert:hover {\n",
              "      background-color: #434B5C;\n",
              "      box-shadow: 0px 1px 3px 1px rgba(0, 0, 0, 0.15);\n",
              "      filter: drop-shadow(0px 1px 2px rgba(0, 0, 0, 0.3));\n",
              "      fill: #FFFFFF;\n",
              "    }\n",
              "  </style>\n",
              "\n",
              "      <script>\n",
              "        const buttonEl =\n",
              "          document.querySelector('#df-37501c80-7545-4a9e-a6c9-a325f9321300 button.colab-df-convert');\n",
              "        buttonEl.style.display =\n",
              "          google.colab.kernel.accessAllowed ? 'block' : 'none';\n",
              "\n",
              "        async function convertToInteractive(key) {\n",
              "          const element = document.querySelector('#df-37501c80-7545-4a9e-a6c9-a325f9321300');\n",
              "          const dataTable =\n",
              "            await google.colab.kernel.invokeFunction('convertToInteractive',\n",
              "                                                     [key], {});\n",
              "          if (!dataTable) return;\n",
              "\n",
              "          const docLinkHtml = 'Like what you see? Visit the ' +\n",
              "            '<a target=\"_blank\" href=https://colab.research.google.com/notebooks/data_table.ipynb>data table notebook</a>'\n",
              "            + ' to learn more about interactive tables.';\n",
              "          element.innerHTML = '';\n",
              "          dataTable['output_type'] = 'display_data';\n",
              "          await google.colab.output.renderOutput(dataTable, element);\n",
              "          const docLink = document.createElement('div');\n",
              "          docLink.innerHTML = docLinkHtml;\n",
              "          element.appendChild(docLink);\n",
              "        }\n",
              "      </script>\n",
              "    </div>\n",
              "  </div>\n",
              "  "
            ]
          },
          "metadata": {},
          "execution_count": 60
        }
      ]
    },
    {
      "cell_type": "markdown",
      "source": [
        "###Creating Adjacency Matrix"
      ],
      "metadata": {
        "id": "_8f3k_8SD6P_"
      }
    },
    {
      "cell_type": "code",
      "source": [
        "V_graph = len(proteins)\n",
        "adj_matrix = np.zeros((V_graph, V_graph), dtype=float)\n",
        "for i in range(len(graph_data)):\n",
        "    adj_matrix[int(graph_data['a'][i]), int(graph_data['b'][i])] = graph_data[\"Score\"][i]\n",
        "    adj_matrix[int(graph_data['b'][i]), int(graph_data['a'][i])] = graph_data[\"Score\"][i]\n",
        "adj_matrix"
      ],
      "metadata": {
        "colab": {
          "base_uri": "https://localhost:8080/"
        },
        "id": "cIOCIkpXs6LR",
        "outputId": "8909d1cf-21cf-45ab-a4c7-997080d613ad"
      },
      "execution_count": null,
      "outputs": [
        {
          "output_type": "execute_result",
          "data": {
            "text/plain": [
              "array([[20.,  0.,  0., ...,  0.,  0.,  0.],\n",
              "       [ 0.,  0.,  0., ...,  0.,  0.,  0.],\n",
              "       [ 0.,  0.,  0., ...,  0.,  0.,  0.],\n",
              "       ...,\n",
              "       [ 0.,  0.,  0., ...,  0.,  0.,  0.],\n",
              "       [ 0.,  0.,  0., ...,  0.,  0.,  0.],\n",
              "       [ 0.,  0.,  0., ...,  0.,  0.,  0.]])"
            ]
          },
          "metadata": {},
          "execution_count": 61
        }
      ]
    },
    {
      "cell_type": "markdown",
      "source": [
        "###Creatin Canonical Matrix"
      ],
      "metadata": {
        "id": "9kZJtUI6EAfy"
      }
    },
    {
      "cell_type": "code",
      "source": [
        "canonical_matrix = adj_matrix.copy()\n",
        "for i in range(len(canonical_matrix)):\n",
        "        canonical_matrix[i][i] = max(canonical_matrix[i])\n",
        "canonical_matrix = sklearn.preprocessing.normalize(canonical_matrix, norm=\"l1\", axis=0, copy=True)\n",
        "canonical_matrix"
      ],
      "metadata": {
        "colab": {
          "base_uri": "https://localhost:8080/"
        },
        "id": "r3XsutsYxb81",
        "outputId": "942ed6dc-fb31-4bb5-e851-f17007d99c33"
      },
      "execution_count": null,
      "outputs": [
        {
          "output_type": "execute_result",
          "data": {
            "text/plain": [
              "array([[0.15810861, 0.        , 0.        , ..., 0.        , 0.        ,\n",
              "        0.        ],\n",
              "       [0.        , 0.22717369, 0.        , ..., 0.        , 0.        ,\n",
              "        0.        ],\n",
              "       [0.        , 0.        , 0.29612897, ..., 0.        , 0.        ,\n",
              "        0.        ],\n",
              "       ...,\n",
              "       [0.        , 0.        , 0.        , ..., 0.5       , 0.        ,\n",
              "        0.        ],\n",
              "       [0.        , 0.        , 0.        , ..., 0.        , 0.5       ,\n",
              "        0.        ],\n",
              "       [0.        , 0.        , 0.        , ..., 0.        , 0.        ,\n",
              "        0.5       ]])"
            ]
          },
          "metadata": {},
          "execution_count": 117
        }
      ]
    },
    {
      "cell_type": "code",
      "source": [
        "# TEST OF CORRECTNESS :\n",
        "# cnt = 0;\n",
        "# for i in adj_matrix:\n",
        "#     if(i.sum() != 0):\n",
        "#         cnt += 1\n",
        "# print(cnt == canonical_matrix.sum().round())"
      ],
      "metadata": {
        "id": "O5dYnpiZma-w"
      },
      "execution_count": null,
      "outputs": []
    },
    {
      "cell_type": "markdown",
      "source": [
        "#SR-MCL Algortitm Implementation (Task 1)"
      ],
      "metadata": {
        "id": "9IDB-I2UDAnP"
      }
    },
    {
      "cell_type": "code",
      "source": [
        "from sklearn.preprocessing import normalize\n",
        "from numpy.linalg import matrix_power\n",
        "\n",
        "def RegularizationMatrix(M, MG, b):\n",
        "    m = M.sum(axis=0)\n",
        "    p = M.T @ m\n",
        "    for i in p:\n",
        "        if i != 0:\n",
        "            i = i**(-b)\n",
        "    P = np.zeros((M.shape[0], M.shape[0]))\n",
        "    np.fill_diagonal(P, p)\n",
        "    MR = MG @ P \n",
        "    MR = sklearn.preprocessing.normalize(M, norm=\"l1\", axis=0, copy=False)\n",
        "    return MR"
      ],
      "metadata": {
        "id": "lhlhsAAVL0DK"
      },
      "execution_count": null,
      "outputs": []
    },
    {
      "cell_type": "code",
      "source": [
        "def Inflate(Matrix, inflation_ratio, Been_An_Attractor, penalized_ratio):\n",
        "    for i in range(Matrix.shape[0]):\n",
        "        Matrix[:,i] = np.power(Matrix[:,i], inflation_ratio * np.power(penalized_ratio, Been_An_Attractor[i]))\n",
        "    Matrix = sklearn.preprocessing.normalize(Matrix, norm=\"l1\", axis=0, copy=False)\n",
        "    return Matrix"
      ],
      "metadata": {
        "id": "xTuoa7J2Utw2"
      },
      "execution_count": null,
      "outputs": []
    },
    {
      "cell_type": "code",
      "source": [
        "def Prune(Matrix, threshold = 0.1):\n",
        "    pruned = Matrix.copy()\n",
        "    pruned[pruned < threshold] = 0\n",
        "    pruned = sklearn.preprocessing.normalize(pruned, norm=\"l1\", axis=0, copy=False)\n",
        "    return pruned"
      ],
      "metadata": {
        "id": "Xeredi-GXe1z"
      },
      "execution_count": null,
      "outputs": []
    },
    {
      "cell_type": "code",
      "source": [
        "from scipy.sparse import isspmatrix, dok_matrix, csc_matrix\n",
        "def get_clusters(M, a):\n",
        "        clusters = set()\n",
        "        matrix = csc_matrix(M)\n",
        "        for attractor in a:\n",
        "            cluster = tuple(matrix.getrow(attractor).nonzero()[1].tolist())\n",
        "            clusters.add(cluster)\n",
        "        return clusters"
      ],
      "metadata": {
        "id": "Eap2l_D-dljp"
      },
      "execution_count": null,
      "outputs": []
    },
    {
      "cell_type": "code",
      "source": [
        "def SR_MCL(MG = canonical_matrix, balance_parameter = 2, inflation_ratio = 2, penalized_ratio = 1.25, iterations = 1):\n",
        "    Resulting_Clusters = []\n",
        "    Been_An_Attractor = np.zeros(len(MG))\n",
        "    Matrix = MG.copy()\n",
        "    for it in range(iterations):\n",
        "        print(\"Iteration \",it+1, \" out of \",iterations)\n",
        "        converged = False\n",
        "        steps = 0\n",
        "        while(converged == False):\n",
        "            last_version = Matrix.copy()\n",
        "            steps += 1\n",
        "            MR = RegularizationMatrix(Matrix, MG, balance_parameter)\n",
        "            Matrix = Matrix @ MR\n",
        "            Matrix = Inflate(Matrix, inflation_ratio, Been_An_Attractor, penalized_ratio)\n",
        "            Matrix = Prune(Matrix)\n",
        "            converged = np.allclose(last_version,Matrix)\n",
        "            print(\"\\tAt Step : \", steps, \" and change from previous step : \",(last_version - Matrix).sum())\n",
        "        print(\"\\tConverged at step \",steps)\n",
        "        Attractors = Matrix.diagonal().nonzero()[0]\n",
        "        print(Attractors,\"--------\")\n",
        "        print(Been_An_Attractor)\n",
        "        for v in Attractors:\n",
        "            Been_An_Attractor[v] += 1\n",
        "        Citer = get_clusters(Matrix, Attractors)\n",
        "        for cl in Citer:\n",
        "            if cl not in Resulting_Clusters:\n",
        "                Resulting_Clusters.append(cl)\n",
        "\n",
        "    return Resulting_Clusters"
      ],
      "metadata": {
        "id": "i67L-mJbmmBk"
      },
      "execution_count": null,
      "outputs": []
    },
    {
      "cell_type": "markdown",
      "source": [
        "##Post-Processing"
      ],
      "metadata": {
        "id": "vCEhN48903xa"
      }
    },
    {
      "cell_type": "code",
      "source": [
        "def qf(C, adj):\n",
        "    v = len(C)\n",
        "    if (v <= 2):\n",
        "        return 0\n",
        "    E = 0\n",
        "    for i in range(v):\n",
        "        for j in range(i + 1, v):\n",
        "            if(adj[i,j] != 0):\n",
        "                E += 1\n",
        "    return 2 * E / (v * (v-1)) * math.sqrt(v)"
      ],
      "metadata": {
        "id": "UDozRVhR06sN"
      },
      "execution_count": null,
      "outputs": []
    },
    {
      "cell_type": "markdown",
      "source": [
        "##Running SR_MCL on WI-PHI dataset (task 2)"
      ],
      "metadata": {
        "id": "DB_0G-AEetTB"
      }
    },
    {
      "cell_type": "code",
      "source": [
        "clusters = SR_MCL(canonical_matrix,2, 2, 1.25, 5)"
      ],
      "metadata": {
        "colab": {
          "base_uri": "https://localhost:8080/"
        },
        "id": "uokdZIhCwgnp",
        "outputId": "baac393b-acf4-4357-99c4-bff6a2847b09"
      },
      "execution_count": null,
      "outputs": [
        {
          "output_type": "stream",
          "name": "stdout",
          "text": [
            "Iteration  1  out of  5\n",
            "\tAt Step :  1  and change :  15.00000000000008\n",
            "\tAt Step :  2  and change :  -1.0796918914479647e-13\n",
            "\tAt Step :  3  and change :  7.099876242477876e-14\n",
            "\tAt Step :  4  and change :  9.103828801926284e-15\n",
            "\tAt Step :  5  and change :  1.7708057242771247e-14\n",
            "\tAt Step :  6  and change :  2.275957200481571e-15\n",
            "\tAt Step :  7  and change :  -2.7200464103316335e-15\n",
            "\tAt Step :  8  and change :  -1.4432899320127035e-15\n",
            "\tAt Step :  9  and change :  8.881784197001252e-16\n",
            "\tAt Step :  10  and change :  -4.996003610813204e-16\n",
            "\tAt Step :  11  and change :  2.7755575615628914e-16\n",
            "\tAt Step :  12  and change :  5.551115123125783e-17\n",
            "\tAt Step :  13  and change :  5.551115123125783e-17\n",
            "\tAt Step :  14  and change :  0.0\n",
            "\tConverged at step  14\n",
            "[   0    2    3    6    7   11   12   17   19   20   21   23   24   28\n",
            "   32   35   37   38   39   41   42   44   46   51   52   55   57   58\n",
            "   60   62   65   68   69   74   75   76   81   84   85   87   91   92\n",
            "   94   95   96   98   99  100  102  106  109  112  113  114  115  116\n",
            "  124  130  131  132  142  146  147  148  149  150  151  152  153  159\n",
            "  160  161  166  171  172  173  176  182  191  194  197  201  205  209\n",
            "  211  214  217  219  220  221  224  226  228  230  233  235  240  243\n",
            "  251  252  253  254  255  256  257  261  263  270  272  273  275  280\n",
            "  282  286  287  289  292  293  296  298  300  303  306  308  309  310\n",
            "  318  329  332  335  339  345  347  350  351  352  360  363  365  366\n",
            "  367  380  386  391  396  397  398  403  405  406  407  411  415  418\n",
            "  420  423  425  431  432  436  437  441  443  446  447  451  456  459\n",
            "  461  462  465  467  481  497  498  500  507  508  512  513  523  527\n",
            "  531  532  533  536  537  543  544  546  547  554  556  558  560  566\n",
            "  567  572  573  578  580  586  589  591  594  597  598  602  605  607\n",
            "  609  615  617  619  621  622  624  625  630  634  641  645  655  656\n",
            "  658  659  660  667  670  672  674  677  682  683  685  688  689  694\n",
            "  696  698  701  702  705  710  715  716  718  721  722  724  726  728\n",
            "  729  734  738  742  744  745  749  750  751  752  753  760  765  768\n",
            "  770  774  776  777  779  784  785  788  791  792  793  803  804  808\n",
            "  809  810  811  812  814  818  821  824  828  830  832  833  834  835\n",
            "  839  841  842  848  849  855  861  862  866  867  871  872  874  887\n",
            "  891  896  897  899  900  904  907  909  910  911  915  916  919  921\n",
            "  928  931  935  941  943  945  946  948  957  961  964  966  973  975\n",
            "  977  980  984  985  988  994  997  998 1000 1001 1003 1008 1011 1017\n",
            " 1018 1019 1025 1026 1027 1035 1036 1044 1045 1052 1057 1059 1060 1074\n",
            " 1079 1081 1090 1091 1094 1095 1096 1099 1100 1101 1103 1105 1111 1113\n",
            " 1114 1117 1121 1123 1124 1126 1129 1130 1132 1138 1139 1150 1155 1156\n",
            " 1162 1164 1166 1168 1173 1174 1175 1177 1180 1181 1191 1193 1196 1199\n",
            " 1203 1211 1212 1213 1214 1216 1217 1219 1222 1226 1227 1229 1232 1238\n",
            " 1246 1249 1250 1253 1256 1258 1265 1266 1269 1275 1277 1286 1290 1291\n",
            " 1292 1294 1295 1301 1304 1306 1311 1313 1314 1329 1331 1333 1335 1337\n",
            " 1338 1340 1348 1354 1360 1362 1364 1366 1368 1369 1373 1375 1386 1389\n",
            " 1391 1395 1397 1398 1400 1402 1406 1421 1424 1427 1429 1432 1438 1440\n",
            " 1441 1445 1450 1451 1452 1453 1455 1456 1459 1460 1461 1462 1463 1465\n",
            " 1466 1471 1479 1486 1487 1492 1494 1495 1496 1498 1502 1505 1507 1516\n",
            " 1522 1523 1526 1531 1535 1539 1540 1542 1548 1550 1551 1553 1555 1556\n",
            " 1560 1561 1562 1565 1567 1575 1579 1580 1581 1582 1583 1586 1597 1603\n",
            " 1611 1613 1614 1618 1619 1621 1622 1623 1626 1631 1632 1634 1637 1648\n",
            " 1659 1660 1661 1662 1672 1673 1677 1679 1681 1683 1695 1696 1700 1704\n",
            " 1714 1716 1718 1722 1723 1729 1730 1731 1734 1735 1736 1739 1744 1747\n",
            " 1750 1752 1754 1759 1760 1765 1767 1770 1773 1776 1778 1779 1783 1784\n",
            " 1785 1789 1791 1794 1795 1800 1801 1803 1808 1813 1823 1826 1827 1831\n",
            " 1833 1835 1844 1845 1846 1860 1869 1879 1884 1885 1886 1889 1893 1899\n",
            " 1900 1902 1910 1911 1920 1923 1937 1939 1941 1947 1954 1961 1962 1964\n",
            " 1968 1975 1977 1979 1981 1991 1993 1996 2001 2002 2009 2010 2018 2020\n",
            " 2022 2030 2031 2045 2048 2055 2063 2064 2066 2067 2068 2069 2072 2084\n",
            " 2088 2094 2097 2109 2110 2115 2118 2119 2121 2129 2135 2136 2137 2145\n",
            " 2148 2149 2155 2159 2165 2169 2171 2175 2180 2181 2182 2183 2184 2186\n",
            " 2199 2201 2203 2204 2208 2219 2221 2223 2226 2229 2233 2241 2243 2248\n",
            " 2249 2253 2256 2257 2261 2267 2272 2276 2277 2282 2287 2294 2299 2301\n",
            " 2302 2303 2307 2308 2310 2311 2313 2316 2318 2319 2321 2324 2330 2334\n",
            " 2347 2353 2362 2367 2368 2370 2378 2385 2386 2388 2394 2399 2404 2414\n",
            " 2434 2436 2438 2447 2462 2463 2464 2482 2512 2513 2514 2519 2523 2524\n",
            " 2529 2537 2542 2543 2552 2560 2561 2562 2580 2583 2585 2587 2588 2593\n",
            " 2600 2612 2620 2622 2627 2629 2633 2635 2641 2645 2649 2650 2652 2654\n",
            " 2674 2678 2679 2684 2695 2708 2712 2735 2737 2739 2740 2742 2761 2762\n",
            " 2763 2768 2771 2784 2797 2804 2806 2834 2838 2863 2867 2884 2885 2902\n",
            " 2926 2932 2954 2959 2961 2970 2974 2975 2984 2998 3005 3025 3033] --------\n",
            "[0. 0. 0. ... 0. 0. 0.]\n",
            "Iteration  2  out of  5\n",
            "\tAt Step :  1  and change :  0.0\n",
            "\tConverged at step  1\n",
            "[   0    2    3    6    7   11   12   17   19   20   21   23   24   28\n",
            "   32   35   37   38   39   41   42   44   46   51   52   55   57   58\n",
            "   60   62   65   68   69   74   75   76   81   84   85   87   91   92\n",
            "   94   95   96   98   99  100  102  106  109  112  113  114  115  116\n",
            "  124  130  131  132  142  146  147  148  149  150  151  152  153  159\n",
            "  160  161  166  171  172  173  176  182  191  194  197  201  205  209\n",
            "  211  214  217  219  220  221  224  226  228  230  233  235  240  243\n",
            "  251  252  253  254  255  256  257  261  263  270  272  273  275  280\n",
            "  282  286  287  289  292  293  296  298  300  303  306  308  309  310\n",
            "  318  329  332  335  339  345  347  350  351  352  360  363  365  366\n",
            "  367  380  386  391  396  397  398  403  405  406  407  411  415  418\n",
            "  420  423  425  431  432  436  437  441  443  446  447  451  456  459\n",
            "  461  462  465  467  481  497  498  500  507  508  512  513  523  527\n",
            "  531  532  533  536  537  543  544  546  547  554  556  558  560  566\n",
            "  567  572  573  578  580  586  589  591  594  597  598  602  605  607\n",
            "  609  615  617  619  621  622  624  625  630  634  641  645  655  656\n",
            "  658  659  660  667  670  672  674  677  682  683  685  688  689  694\n",
            "  696  698  701  702  705  710  715  716  718  721  722  724  726  728\n",
            "  729  734  738  742  744  745  749  750  751  752  753  760  765  768\n",
            "  770  774  776  777  779  784  785  788  791  792  793  803  804  808\n",
            "  809  810  811  812  814  818  821  824  828  830  832  833  834  835\n",
            "  839  841  842  848  849  855  861  862  866  867  871  872  874  887\n",
            "  891  896  897  899  900  904  907  909  910  911  915  916  919  921\n",
            "  928  931  935  941  943  945  946  948  957  961  964  966  973  975\n",
            "  977  980  984  985  988  994  997  998 1000 1001 1003 1008 1011 1017\n",
            " 1018 1019 1025 1026 1027 1035 1036 1044 1045 1052 1057 1059 1060 1074\n",
            " 1079 1081 1090 1091 1094 1095 1096 1099 1100 1101 1103 1105 1111 1113\n",
            " 1114 1117 1121 1123 1124 1126 1129 1130 1132 1138 1139 1150 1155 1156\n",
            " 1162 1164 1166 1168 1173 1174 1175 1177 1180 1181 1191 1193 1196 1199\n",
            " 1203 1211 1212 1213 1214 1216 1217 1219 1222 1226 1227 1229 1232 1238\n",
            " 1246 1249 1250 1253 1256 1258 1265 1266 1269 1275 1277 1286 1290 1291\n",
            " 1292 1294 1295 1301 1304 1306 1311 1313 1314 1329 1331 1333 1335 1337\n",
            " 1338 1340 1348 1354 1360 1362 1364 1366 1368 1369 1373 1375 1386 1389\n",
            " 1391 1395 1397 1398 1400 1402 1406 1421 1424 1427 1429 1432 1438 1440\n",
            " 1441 1445 1450 1451 1452 1453 1455 1456 1459 1460 1461 1462 1463 1465\n",
            " 1466 1471 1479 1486 1487 1492 1494 1495 1496 1498 1502 1505 1507 1516\n",
            " 1522 1523 1526 1531 1535 1539 1540 1542 1548 1550 1551 1553 1555 1556\n",
            " 1560 1561 1562 1565 1567 1575 1579 1580 1581 1582 1583 1586 1597 1603\n",
            " 1611 1613 1614 1618 1619 1621 1622 1623 1626 1631 1632 1634 1637 1648\n",
            " 1659 1660 1661 1662 1672 1673 1677 1679 1681 1683 1695 1696 1700 1704\n",
            " 1714 1716 1718 1722 1723 1729 1730 1731 1734 1735 1736 1739 1744 1747\n",
            " 1750 1752 1754 1759 1760 1765 1767 1770 1773 1776 1778 1779 1783 1784\n",
            " 1785 1789 1791 1794 1795 1800 1801 1803 1808 1813 1823 1826 1827 1831\n",
            " 1833 1835 1844 1845 1846 1860 1869 1879 1884 1885 1886 1889 1893 1899\n",
            " 1900 1902 1910 1911 1920 1923 1937 1939 1941 1947 1954 1961 1962 1964\n",
            " 1968 1975 1977 1979 1981 1991 1993 1996 2001 2002 2009 2010 2018 2020\n",
            " 2022 2030 2031 2045 2048 2055 2063 2064 2066 2067 2068 2069 2072 2084\n",
            " 2088 2094 2097 2109 2110 2115 2118 2119 2121 2129 2135 2136 2137 2145\n",
            " 2148 2149 2155 2159 2165 2169 2171 2175 2180 2181 2182 2183 2184 2186\n",
            " 2199 2201 2203 2204 2208 2219 2221 2223 2226 2229 2233 2241 2243 2248\n",
            " 2249 2253 2256 2257 2261 2267 2272 2276 2277 2282 2287 2294 2299 2301\n",
            " 2302 2303 2307 2308 2310 2311 2313 2316 2318 2319 2321 2324 2330 2334\n",
            " 2347 2353 2362 2367 2368 2370 2378 2385 2386 2388 2394 2399 2404 2414\n",
            " 2434 2436 2438 2447 2462 2463 2464 2482 2512 2513 2514 2519 2523 2524\n",
            " 2529 2537 2542 2543 2552 2560 2561 2562 2580 2583 2585 2587 2588 2593\n",
            " 2600 2612 2620 2622 2627 2629 2633 2635 2641 2645 2649 2650 2652 2654\n",
            " 2674 2678 2679 2684 2695 2708 2712 2735 2737 2739 2740 2742 2761 2762\n",
            " 2763 2768 2771 2784 2797 2804 2806 2834 2838 2863 2867 2884 2885 2902\n",
            " 2926 2932 2954 2959 2961 2970 2974 2975 2984 2998 3005 3025 3033] --------\n",
            "[1. 0. 1. ... 0. 0. 1.]\n",
            "Iteration  3  out of  5\n",
            "\tAt Step :  1  and change :  0.0\n",
            "\tConverged at step  1\n",
            "[   0    2    3    6    7   11   12   17   19   20   21   23   24   28\n",
            "   32   35   37   38   39   41   42   44   46   51   52   55   57   58\n",
            "   60   62   65   68   69   74   75   76   81   84   85   87   91   92\n",
            "   94   95   96   98   99  100  102  106  109  112  113  114  115  116\n",
            "  124  130  131  132  142  146  147  148  149  150  151  152  153  159\n",
            "  160  161  166  171  172  173  176  182  191  194  197  201  205  209\n",
            "  211  214  217  219  220  221  224  226  228  230  233  235  240  243\n",
            "  251  252  253  254  255  256  257  261  263  270  272  273  275  280\n",
            "  282  286  287  289  292  293  296  298  300  303  306  308  309  310\n",
            "  318  329  332  335  339  345  347  350  351  352  360  363  365  366\n",
            "  367  380  386  391  396  397  398  403  405  406  407  411  415  418\n",
            "  420  423  425  431  432  436  437  441  443  446  447  451  456  459\n",
            "  461  462  465  467  481  497  498  500  507  508  512  513  523  527\n",
            "  531  532  533  536  537  543  544  546  547  554  556  558  560  566\n",
            "  567  572  573  578  580  586  589  591  594  597  598  602  605  607\n",
            "  609  615  617  619  621  622  624  625  630  634  641  645  655  656\n",
            "  658  659  660  667  670  672  674  677  682  683  685  688  689  694\n",
            "  696  698  701  702  705  710  715  716  718  721  722  724  726  728\n",
            "  729  734  738  742  744  745  749  750  751  752  753  760  765  768\n",
            "  770  774  776  777  779  784  785  788  791  792  793  803  804  808\n",
            "  809  810  811  812  814  818  821  824  828  830  832  833  834  835\n",
            "  839  841  842  848  849  855  861  862  866  867  871  872  874  887\n",
            "  891  896  897  899  900  904  907  909  910  911  915  916  919  921\n",
            "  928  931  935  941  943  945  946  948  957  961  964  966  973  975\n",
            "  977  980  984  985  988  994  997  998 1000 1001 1003 1008 1011 1017\n",
            " 1018 1019 1025 1026 1027 1035 1036 1044 1045 1052 1057 1059 1060 1074\n",
            " 1079 1081 1090 1091 1094 1095 1096 1099 1100 1101 1103 1105 1111 1113\n",
            " 1114 1117 1121 1123 1124 1126 1129 1130 1132 1138 1139 1150 1155 1156\n",
            " 1162 1164 1166 1168 1173 1174 1175 1177 1180 1181 1191 1193 1196 1199\n",
            " 1203 1211 1212 1213 1214 1216 1217 1219 1222 1226 1227 1229 1232 1238\n",
            " 1246 1249 1250 1253 1256 1258 1265 1266 1269 1275 1277 1286 1290 1291\n",
            " 1292 1294 1295 1301 1304 1306 1311 1313 1314 1329 1331 1333 1335 1337\n",
            " 1338 1340 1348 1354 1360 1362 1364 1366 1368 1369 1373 1375 1386 1389\n",
            " 1391 1395 1397 1398 1400 1402 1406 1421 1424 1427 1429 1432 1438 1440\n",
            " 1441 1445 1450 1451 1452 1453 1455 1456 1459 1460 1461 1462 1463 1465\n",
            " 1466 1471 1479 1486 1487 1492 1494 1495 1496 1498 1502 1505 1507 1516\n",
            " 1522 1523 1526 1531 1535 1539 1540 1542 1548 1550 1551 1553 1555 1556\n",
            " 1560 1561 1562 1565 1567 1575 1579 1580 1581 1582 1583 1586 1597 1603\n",
            " 1611 1613 1614 1618 1619 1621 1622 1623 1626 1631 1632 1634 1637 1648\n",
            " 1659 1660 1661 1662 1672 1673 1677 1679 1681 1683 1695 1696 1700 1704\n",
            " 1714 1716 1718 1722 1723 1729 1730 1731 1734 1735 1736 1739 1744 1747\n",
            " 1750 1752 1754 1759 1760 1765 1767 1770 1773 1776 1778 1779 1783 1784\n",
            " 1785 1789 1791 1794 1795 1800 1801 1803 1808 1813 1823 1826 1827 1831\n",
            " 1833 1835 1844 1845 1846 1860 1869 1879 1884 1885 1886 1889 1893 1899\n",
            " 1900 1902 1910 1911 1920 1923 1937 1939 1941 1947 1954 1961 1962 1964\n",
            " 1968 1975 1977 1979 1981 1991 1993 1996 2001 2002 2009 2010 2018 2020\n",
            " 2022 2030 2031 2045 2048 2055 2063 2064 2066 2067 2068 2069 2072 2084\n",
            " 2088 2094 2097 2109 2110 2115 2118 2119 2121 2129 2135 2136 2137 2145\n",
            " 2148 2149 2155 2159 2165 2169 2171 2175 2180 2181 2182 2183 2184 2186\n",
            " 2199 2201 2203 2204 2208 2219 2221 2223 2226 2229 2233 2241 2243 2248\n",
            " 2249 2253 2256 2257 2261 2267 2272 2276 2277 2282 2287 2294 2299 2301\n",
            " 2302 2303 2307 2308 2310 2311 2313 2316 2318 2319 2321 2324 2330 2334\n",
            " 2347 2353 2362 2367 2368 2370 2378 2385 2386 2388 2394 2399 2404 2414\n",
            " 2434 2436 2438 2447 2462 2463 2464 2482 2512 2513 2514 2519 2523 2524\n",
            " 2529 2537 2542 2543 2552 2560 2561 2562 2580 2583 2585 2587 2588 2593\n",
            " 2600 2612 2620 2622 2627 2629 2633 2635 2641 2645 2649 2650 2652 2654\n",
            " 2674 2678 2679 2684 2695 2708 2712 2735 2737 2739 2740 2742 2761 2762\n",
            " 2763 2768 2771 2784 2797 2804 2806 2834 2838 2863 2867 2884 2885 2902\n",
            " 2926 2932 2954 2959 2961 2970 2974 2975 2984 2998 3005 3025 3033] --------\n",
            "[2. 0. 2. ... 0. 0. 2.]\n",
            "Iteration  4  out of  5\n",
            "\tAt Step :  1  and change :  0.0\n",
            "\tConverged at step  1\n",
            "[   0    2    3    6    7   11   12   17   19   20   21   23   24   28\n",
            "   32   35   37   38   39   41   42   44   46   51   52   55   57   58\n",
            "   60   62   65   68   69   74   75   76   81   84   85   87   91   92\n",
            "   94   95   96   98   99  100  102  106  109  112  113  114  115  116\n",
            "  124  130  131  132  142  146  147  148  149  150  151  152  153  159\n",
            "  160  161  166  171  172  173  176  182  191  194  197  201  205  209\n",
            "  211  214  217  219  220  221  224  226  228  230  233  235  240  243\n",
            "  251  252  253  254  255  256  257  261  263  270  272  273  275  280\n",
            "  282  286  287  289  292  293  296  298  300  303  306  308  309  310\n",
            "  318  329  332  335  339  345  347  350  351  352  360  363  365  366\n",
            "  367  380  386  391  396  397  398  403  405  406  407  411  415  418\n",
            "  420  423  425  431  432  436  437  441  443  446  447  451  456  459\n",
            "  461  462  465  467  481  497  498  500  507  508  512  513  523  527\n",
            "  531  532  533  536  537  543  544  546  547  554  556  558  560  566\n",
            "  567  572  573  578  580  586  589  591  594  597  598  602  605  607\n",
            "  609  615  617  619  621  622  624  625  630  634  641  645  655  656\n",
            "  658  659  660  667  670  672  674  677  682  683  685  688  689  694\n",
            "  696  698  701  702  705  710  715  716  718  721  722  724  726  728\n",
            "  729  734  738  742  744  745  749  750  751  752  753  760  765  768\n",
            "  770  774  776  777  779  784  785  788  791  792  793  803  804  808\n",
            "  809  810  811  812  814  818  821  824  828  830  832  833  834  835\n",
            "  839  841  842  848  849  855  861  862  866  867  871  872  874  887\n",
            "  891  896  897  899  900  904  907  909  910  911  915  916  919  921\n",
            "  928  931  935  941  943  945  946  948  957  961  964  966  973  975\n",
            "  977  980  984  985  988  994  997  998 1000 1001 1003 1008 1011 1017\n",
            " 1018 1019 1025 1026 1027 1035 1036 1044 1045 1052 1057 1059 1060 1074\n",
            " 1079 1081 1090 1091 1094 1095 1096 1099 1100 1101 1103 1105 1111 1113\n",
            " 1114 1117 1121 1123 1124 1126 1129 1130 1132 1138 1139 1150 1155 1156\n",
            " 1162 1164 1166 1168 1173 1174 1175 1177 1180 1181 1191 1193 1196 1199\n",
            " 1203 1211 1212 1213 1214 1216 1217 1219 1222 1226 1227 1229 1232 1238\n",
            " 1246 1249 1250 1253 1256 1258 1265 1266 1269 1275 1277 1286 1290 1291\n",
            " 1292 1294 1295 1301 1304 1306 1311 1313 1314 1329 1331 1333 1335 1337\n",
            " 1338 1340 1348 1354 1360 1362 1364 1366 1368 1369 1373 1375 1386 1389\n",
            " 1391 1395 1397 1398 1400 1402 1406 1421 1424 1427 1429 1432 1438 1440\n",
            " 1441 1445 1450 1451 1452 1453 1455 1456 1459 1460 1461 1462 1463 1465\n",
            " 1466 1471 1479 1486 1487 1492 1494 1495 1496 1498 1502 1505 1507 1516\n",
            " 1522 1523 1526 1531 1535 1539 1540 1542 1548 1550 1551 1553 1555 1556\n",
            " 1560 1561 1562 1565 1567 1575 1579 1580 1581 1582 1583 1586 1597 1603\n",
            " 1611 1613 1614 1618 1619 1621 1622 1623 1626 1631 1632 1634 1637 1648\n",
            " 1659 1660 1661 1662 1672 1673 1677 1679 1681 1683 1695 1696 1700 1704\n",
            " 1714 1716 1718 1722 1723 1729 1730 1731 1734 1735 1736 1739 1744 1747\n",
            " 1750 1752 1754 1759 1760 1765 1767 1770 1773 1776 1778 1779 1783 1784\n",
            " 1785 1789 1791 1794 1795 1800 1801 1803 1808 1813 1823 1826 1827 1831\n",
            " 1833 1835 1844 1845 1846 1860 1869 1879 1884 1885 1886 1889 1893 1899\n",
            " 1900 1902 1910 1911 1920 1923 1937 1939 1941 1947 1954 1961 1962 1964\n",
            " 1968 1975 1977 1979 1981 1991 1993 1996 2001 2002 2009 2010 2018 2020\n",
            " 2022 2030 2031 2045 2048 2055 2063 2064 2066 2067 2068 2069 2072 2084\n",
            " 2088 2094 2097 2109 2110 2115 2118 2119 2121 2129 2135 2136 2137 2145\n",
            " 2148 2149 2155 2159 2165 2169 2171 2175 2180 2181 2182 2183 2184 2186\n",
            " 2199 2201 2203 2204 2208 2219 2221 2223 2226 2229 2233 2241 2243 2248\n",
            " 2249 2253 2256 2257 2261 2267 2272 2276 2277 2282 2287 2294 2299 2301\n",
            " 2302 2303 2307 2308 2310 2311 2313 2316 2318 2319 2321 2324 2330 2334\n",
            " 2347 2353 2362 2367 2368 2370 2378 2385 2386 2388 2394 2399 2404 2414\n",
            " 2434 2436 2438 2447 2462 2463 2464 2482 2512 2513 2514 2519 2523 2524\n",
            " 2529 2537 2542 2543 2552 2560 2561 2562 2580 2583 2585 2587 2588 2593\n",
            " 2600 2612 2620 2622 2627 2629 2633 2635 2641 2645 2649 2650 2652 2654\n",
            " 2674 2678 2679 2684 2695 2708 2712 2735 2737 2739 2740 2742 2761 2762\n",
            " 2763 2768 2771 2784 2797 2804 2806 2834 2838 2863 2867 2884 2885 2902\n",
            " 2926 2932 2954 2959 2961 2970 2974 2975 2984 2998 3005 3025 3033] --------\n",
            "[3. 0. 3. ... 0. 0. 3.]\n",
            "Iteration  5  out of  5\n",
            "\tAt Step :  1  and change :  0.0\n",
            "\tConverged at step  1\n",
            "[   0    2    3    6    7   11   12   17   19   20   21   23   24   28\n",
            "   32   35   37   38   39   41   42   44   46   51   52   55   57   58\n",
            "   60   62   65   68   69   74   75   76   81   84   85   87   91   92\n",
            "   94   95   96   98   99  100  102  106  109  112  113  114  115  116\n",
            "  124  130  131  132  142  146  147  148  149  150  151  152  153  159\n",
            "  160  161  166  171  172  173  176  182  191  194  197  201  205  209\n",
            "  211  214  217  219  220  221  224  226  228  230  233  235  240  243\n",
            "  251  252  253  254  255  256  257  261  263  270  272  273  275  280\n",
            "  282  286  287  289  292  293  296  298  300  303  306  308  309  310\n",
            "  318  329  332  335  339  345  347  350  351  352  360  363  365  366\n",
            "  367  380  386  391  396  397  398  403  405  406  407  411  415  418\n",
            "  420  423  425  431  432  436  437  441  443  446  447  451  456  459\n",
            "  461  462  465  467  481  497  498  500  507  508  512  513  523  527\n",
            "  531  532  533  536  537  543  544  546  547  554  556  558  560  566\n",
            "  567  572  573  578  580  586  589  591  594  597  598  602  605  607\n",
            "  609  615  617  619  621  622  624  625  630  634  641  645  655  656\n",
            "  658  659  660  667  670  672  674  677  682  683  685  688  689  694\n",
            "  696  698  701  702  705  710  715  716  718  721  722  724  726  728\n",
            "  729  734  738  742  744  745  749  750  751  752  753  760  765  768\n",
            "  770  774  776  777  779  784  785  788  791  792  793  803  804  808\n",
            "  809  810  811  812  814  818  821  824  828  830  832  833  834  835\n",
            "  839  841  842  848  849  855  861  862  866  867  871  872  874  887\n",
            "  891  896  897  899  900  904  907  909  910  911  915  916  919  921\n",
            "  928  931  935  941  943  945  946  948  957  961  964  966  973  975\n",
            "  977  980  984  985  988  994  997  998 1000 1001 1003 1008 1011 1017\n",
            " 1018 1019 1025 1026 1027 1035 1036 1044 1045 1052 1057 1059 1060 1074\n",
            " 1079 1081 1090 1091 1094 1095 1096 1099 1100 1101 1103 1105 1111 1113\n",
            " 1114 1117 1121 1123 1124 1126 1129 1130 1132 1138 1139 1150 1155 1156\n",
            " 1162 1164 1166 1168 1173 1174 1175 1177 1180 1181 1191 1193 1196 1199\n",
            " 1203 1211 1212 1213 1214 1216 1217 1219 1222 1226 1227 1229 1232 1238\n",
            " 1246 1249 1250 1253 1256 1258 1265 1266 1269 1275 1277 1286 1290 1291\n",
            " 1292 1294 1295 1301 1304 1306 1311 1313 1314 1329 1331 1333 1335 1337\n",
            " 1338 1340 1348 1354 1360 1362 1364 1366 1368 1369 1373 1375 1386 1389\n",
            " 1391 1395 1397 1398 1400 1402 1406 1421 1424 1427 1429 1432 1438 1440\n",
            " 1441 1445 1450 1451 1452 1453 1455 1456 1459 1460 1461 1462 1463 1465\n",
            " 1466 1471 1479 1486 1487 1492 1494 1495 1496 1498 1502 1505 1507 1516\n",
            " 1522 1523 1526 1531 1535 1539 1540 1542 1548 1550 1551 1553 1555 1556\n",
            " 1560 1561 1562 1565 1567 1575 1579 1580 1581 1582 1583 1586 1597 1603\n",
            " 1611 1613 1614 1618 1619 1621 1622 1623 1626 1631 1632 1634 1637 1648\n",
            " 1659 1660 1661 1662 1672 1673 1677 1679 1681 1683 1695 1696 1700 1704\n",
            " 1714 1716 1718 1722 1723 1729 1730 1731 1734 1735 1736 1739 1744 1747\n",
            " 1750 1752 1754 1759 1760 1765 1767 1770 1773 1776 1778 1779 1783 1784\n",
            " 1785 1789 1791 1794 1795 1800 1801 1803 1808 1813 1823 1826 1827 1831\n",
            " 1833 1835 1844 1845 1846 1860 1869 1879 1884 1885 1886 1889 1893 1899\n",
            " 1900 1902 1910 1911 1920 1923 1937 1939 1941 1947 1954 1961 1962 1964\n",
            " 1968 1975 1977 1979 1981 1991 1993 1996 2001 2002 2009 2010 2018 2020\n",
            " 2022 2030 2031 2045 2048 2055 2063 2064 2066 2067 2068 2069 2072 2084\n",
            " 2088 2094 2097 2109 2110 2115 2118 2119 2121 2129 2135 2136 2137 2145\n",
            " 2148 2149 2155 2159 2165 2169 2171 2175 2180 2181 2182 2183 2184 2186\n",
            " 2199 2201 2203 2204 2208 2219 2221 2223 2226 2229 2233 2241 2243 2248\n",
            " 2249 2253 2256 2257 2261 2267 2272 2276 2277 2282 2287 2294 2299 2301\n",
            " 2302 2303 2307 2308 2310 2311 2313 2316 2318 2319 2321 2324 2330 2334\n",
            " 2347 2353 2362 2367 2368 2370 2378 2385 2386 2388 2394 2399 2404 2414\n",
            " 2434 2436 2438 2447 2462 2463 2464 2482 2512 2513 2514 2519 2523 2524\n",
            " 2529 2537 2542 2543 2552 2560 2561 2562 2580 2583 2585 2587 2588 2593\n",
            " 2600 2612 2620 2622 2627 2629 2633 2635 2641 2645 2649 2650 2652 2654\n",
            " 2674 2678 2679 2684 2695 2708 2712 2735 2737 2739 2740 2742 2761 2762\n",
            " 2763 2768 2771 2784 2797 2804 2806 2834 2838 2863 2867 2884 2885 2902\n",
            " 2926 2932 2954 2959 2961 2970 2974 2975 2984 2998 3005 3025 3033] --------\n",
            "[4. 0. 4. ... 0. 0. 4.]\n"
          ]
        }
      ]
    },
    {
      "cell_type": "code",
      "source": [
        ""
      ],
      "metadata": {
        "id": "ijPpTjH8dwZ-"
      },
      "execution_count": null,
      "outputs": []
    },
    {
      "cell_type": "markdown",
      "source": [
        "#Random Graph for testing"
      ],
      "metadata": {
        "id": "URwKNL-e1OIw"
      }
    },
    {
      "cell_type": "code",
      "source": [
        "# Generating a random graph\n",
        "nodes = 50\n",
        "positions = {i:(random.random() * 2 - 1, random.random() * 2 - 1) for i in range(nodes)}\n",
        "graph = nx.random_geometric_graph(nodes, 0.4, pos=positions)\n",
        "graph.remove_nodes_from(list(nx.isolates(graph)))\n",
        "nodes = len(graph.nodes)\n",
        "nx.draw_networkx(graph, pos=positions, node_size=40, with_labels=True, edge_color=\"lightblue\")\n",
        "A = nx.to_numpy_array(graph)\n",
        "for i in range(len(A)):\n",
        "        A[i][i] = max(A[i])\n",
        "D = sp.sparse.csr_matrix(sp.sparse.spdiags(A.sum(axis=1), 0, nodes, nodes)).toarray()\n",
        "for i in range(len(A)):\n",
        "    A[i] = A[i]/(A[i].sum()+0.00000001)\n",
        "M_G = A @ D\n",
        "M = M_G.copy()\n",
        "print(M)"
      ],
      "metadata": {
        "colab": {
          "base_uri": "https://localhost:8080/",
          "height": 373
        },
        "id": "qsi6u8641Rth",
        "outputId": "c3faa753-b759-4dba-ebeb-9c0151617fda"
      },
      "execution_count": null,
      "outputs": [
        {
          "output_type": "stream",
          "name": "stdout",
          "text": [
            "[[1. 0. 0. ... 0. 0. 0.]\n",
            " [0. 1. 0. ... 0. 0. 0.]\n",
            " [0. 0. 1. ... 0. 0. 0.]\n",
            " ...\n",
            " [0. 0. 0. ... 1. 0. 0.]\n",
            " [0. 0. 0. ... 0. 1. 0.]\n",
            " [0. 0. 0. ... 0. 0. 1.]]\n"
          ]
        },
        {
          "output_type": "display_data",
          "data": {
            "text/plain": [
              "<Figure size 432x288 with 1 Axes>"
            ],
            "image/png": "[encoded data removed]"
          },
          "metadata": {}
        }
      ]
    },
    {
      "cell_type": "code",
      "source": [
        "clusters = SR_MCL(M_G, 1, 4, 1.2, 5)\n",
        "print(clusters)"
      ],
      "metadata": {
        "colab": {
          "base_uri": "https://localhost:8080/"
        },
        "id": "WX6lLAez1Tpp",
        "outputId": "f8dd8a7f-1ceb-4dd1-c4f3-38e0cc4f09b5"
      },
      "execution_count": null,
      "outputs": [
        {
          "output_type": "stream",
          "name": "stdout",
          "text": [
            "Iteration  1  out of  5\n",
            "\tAt Step :  1 \tAt Step :  2 \tAt Step :  3 \tAt Step :  4 \tAt Step :  5 \tAt Step :  6 \tAt Step :  7 \tAt Step :  8 \tAt Step :  9 \tAt Step :  10 \tAt Step :  11 \tAt Step :  12 \tAt Step :  13 \tAt Step :  14 \tAt Step :  15 \tAt Step :  16 \tAt Step :  17 \tAt Step :  18 \tAt Step :  19 \tAt Step :  20 \tAt Step :  21 \tAt Step :  22 \tAt Step :  23 \tAt Step :  24 \tAt Step :  25 \tAt Step :  26 \tAt Step :  27 \tAt Step :  28 \tAt Step :  29 \tAt Step :  30 \tAt Step :  31 \tAt Step :  32 \tAt Step :  33 \tConverged at step  33\n",
            "[ 1  7  8 13 14 17 22 23 29 34 38 39 49] --------\n",
            "[0. 0. 0. 0. 0. 0. 0. 0. 0. 0. 0. 0. 0. 0. 0. 0. 0. 0. 0. 0. 0. 0. 0. 0.\n",
            " 0. 0. 0. 0. 0. 0. 0. 0. 0. 0. 0. 0. 0. 0. 0. 0. 0. 0. 0. 0. 0. 0. 0. 0.\n",
            " 0. 0.]\n",
            "Iteration  2  out of  5\n",
            "\tAt Step :  1 \tConverged at step  1\n",
            "[ 1  7  8 13 14 17 22 23 29 34 38 39 49] --------\n",
            "[0. 1. 0. 0. 0. 0. 0. 1. 1. 0. 0. 0. 0. 1. 1. 0. 0. 1. 0. 0. 0. 0. 1. 1.\n",
            " 0. 0. 0. 0. 0. 1. 0. 0. 0. 0. 1. 0. 0. 0. 1. 1. 0. 0. 0. 0. 0. 0. 0. 0.\n",
            " 0. 1.]\n",
            "Iteration  3  out of  5\n",
            "\tAt Step :  1 \tConverged at step  1\n",
            "[ 1  7  8 13 14 17 22 23 29 34 38 39 49] --------\n",
            "[0. 2. 0. 0. 0. 0. 0. 2. 2. 0. 0. 0. 0. 2. 2. 0. 0. 2. 0. 0. 0. 0. 2. 2.\n",
            " 0. 0. 0. 0. 0. 2. 0. 0. 0. 0. 2. 0. 0. 0. 2. 2. 0. 0. 0. 0. 0. 0. 0. 0.\n",
            " 0. 2.]\n",
            "Iteration  4  out of  5\n",
            "\tAt Step :  1 \tConverged at step  1\n",
            "[ 1  7  8 13 14 17 22 23 29 34 38 39 49] --------\n",
            "[0. 3. 0. 0. 0. 0. 0. 3. 3. 0. 0. 0. 0. 3. 3. 0. 0. 3. 0. 0. 0. 0. 3. 3.\n",
            " 0. 0. 0. 0. 0. 3. 0. 0. 0. 0. 3. 0. 0. 0. 3. 3. 0. 0. 0. 0. 0. 0. 0. 0.\n",
            " 0. 3.]\n",
            "Iteration  5  out of  5\n",
            "\tAt Step :  1 \tConverged at step  1\n",
            "[ 1  7  8 13 14 17 22 23 29 34 38 39 49] --------\n",
            "[0. 4. 0. 0. 0. 0. 0. 4. 4. 0. 0. 0. 0. 4. 4. 0. 0. 4. 0. 0. 0. 0. 4. 4.\n",
            " 0. 0. 0. 0. 0. 4. 0. 0. 0. 0. 4. 0. 0. 0. 4. 4. 0. 0. 0. 0. 0. 0. 0. 0.\n",
            " 0. 4.]\n",
            "[(2, 39, 40), (4, 5, 36, 37, 38, 42, 44, 48), (7, 33), (11, 15, 22, 23), (10, 18, 20, 21, 31, 47, 49), (14, 26, 35), (11, 19, 29), (8, 9), (12, 27, 34, 41, 46), (17, 46), (0, 1, 16, 21, 24, 25, 28, 32, 33, 45), (3, 6, 13, 18, 19, 30, 43)]\n"
          ]
        }
      ]
    },
    {
      "cell_type": "code",
      "source": [
        "nx.draw_networkx(graph, pos=positions, node_size=50,  with_labels=True, cmap = 'viridis')"
      ],
      "metadata": {
        "colab": {
          "base_uri": "https://localhost:8080/",
          "height": 248
        },
        "id": "de_mj3RW1vOt",
        "outputId": "6f6c9051-8773-4ac5-e094-a4dc811a8095"
      },
      "execution_count": null,
      "outputs": [
        {
          "output_type": "display_data",
          "data": {
            "text/plain": [
              "<Figure size 432x288 with 1 Axes>"
            ],
            "image/png": "[encoded data removed]"
          },
          "metadata": {}
        }
      ]
    },
    {
      "cell_type": "code",
      "source": [
        "clusters = list(clusters)\n",
        "colors = [0 for item in range(nodes)]\n",
        "for i in range(len(clusters)):\n",
        "    for nd in clusters[i]:\n",
        "        if colors[nd] == 0:\n",
        "            colors[nd] = i\n",
        "        else:\n",
        "            colors[nd] = len(clusters)+1\n",
        "nx.draw_networkx(graph, node_color=colors, pos=positions, node_size=50, with_labels=False, cmap = 'viridis')"
      ],
      "metadata": {
        "colab": {
          "base_uri": "https://localhost:8080/",
          "height": 248
        },
        "id": "bqQDu3LI1T7q",
        "outputId": "2115445e-1a33-4525-b5de-4554ec73b544"
      },
      "execution_count": null,
      "outputs": [
        {
          "output_type": "display_data",
          "data": {
            "text/plain": [
              "<Figure size 432x288 with 1 Axes>"
            ],
            "image/png": "[encoded data removed]"
          },
          "metadata": {}
        }
      ]
    },
    {
      "cell_type": "code",
      "source": [
        ""
      ],
      "metadata": {
        "id": "g4SIT2HN2VrI"
      },
      "execution_count": null,
      "outputs": []
    }
  ]
}
